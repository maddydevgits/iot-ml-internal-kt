{
 "cells": [
  {
   "cell_type": "code",
   "execution_count": 72,
   "metadata": {},
   "outputs": [],
   "source": [
    "import pandas as pd\n",
    "data=pd.read_csv('iotdata.csv')"
   ]
  },
  {
   "cell_type": "code",
   "execution_count": 73,
   "metadata": {},
   "outputs": [
    {
     "data": {
      "text/html": [
       "<div>\n",
       "<style scoped>\n",
       "    .dataframe tbody tr th:only-of-type {\n",
       "        vertical-align: middle;\n",
       "    }\n",
       "\n",
       "    .dataframe tbody tr th {\n",
       "        vertical-align: top;\n",
       "    }\n",
       "\n",
       "    .dataframe thead th {\n",
       "        text-align: right;\n",
       "    }\n",
       "</style>\n",
       "<table border=\"1\" class=\"dataframe\">\n",
       "  <thead>\n",
       "    <tr style=\"text-align: right;\">\n",
       "      <th></th>\n",
       "      <th>Id</th>\n",
       "      <th>Moisture</th>\n",
       "      <th>State</th>\n",
       "      <th>Action</th>\n",
       "    </tr>\n",
       "  </thead>\n",
       "  <tbody>\n",
       "    <tr>\n",
       "      <th>0</th>\n",
       "      <td>0</td>\n",
       "      <td>1669</td>\n",
       "      <td>wet</td>\n",
       "      <td>motor off</td>\n",
       "    </tr>\n",
       "    <tr>\n",
       "      <th>1</th>\n",
       "      <td>1</td>\n",
       "      <td>1675</td>\n",
       "      <td>wet</td>\n",
       "      <td>motor off</td>\n",
       "    </tr>\n",
       "    <tr>\n",
       "      <th>2</th>\n",
       "      <td>2</td>\n",
       "      <td>1680</td>\n",
       "      <td>wet</td>\n",
       "      <td>motor off</td>\n",
       "    </tr>\n",
       "    <tr>\n",
       "      <th>3</th>\n",
       "      <td>3</td>\n",
       "      <td>1686</td>\n",
       "      <td>wet</td>\n",
       "      <td>motor off</td>\n",
       "    </tr>\n",
       "    <tr>\n",
       "      <th>4</th>\n",
       "      <td>4</td>\n",
       "      <td>1663</td>\n",
       "      <td>wet</td>\n",
       "      <td>motor off</td>\n",
       "    </tr>\n",
       "    <tr>\n",
       "      <th>...</th>\n",
       "      <td>...</td>\n",
       "      <td>...</td>\n",
       "      <td>...</td>\n",
       "      <td>...</td>\n",
       "    </tr>\n",
       "    <tr>\n",
       "      <th>145</th>\n",
       "      <td>145</td>\n",
       "      <td>1803</td>\n",
       "      <td>wet</td>\n",
       "      <td>motor off</td>\n",
       "    </tr>\n",
       "    <tr>\n",
       "      <th>146</th>\n",
       "      <td>146</td>\n",
       "      <td>1982</td>\n",
       "      <td>wet</td>\n",
       "      <td>motor off</td>\n",
       "    </tr>\n",
       "    <tr>\n",
       "      <th>147</th>\n",
       "      <td>147</td>\n",
       "      <td>1574</td>\n",
       "      <td>wet</td>\n",
       "      <td>motor off</td>\n",
       "    </tr>\n",
       "    <tr>\n",
       "      <th>148</th>\n",
       "      <td>148</td>\n",
       "      <td>3146</td>\n",
       "      <td>dry</td>\n",
       "      <td>motor on</td>\n",
       "    </tr>\n",
       "    <tr>\n",
       "      <th>149</th>\n",
       "      <td>149</td>\n",
       "      <td>1269</td>\n",
       "      <td>wet</td>\n",
       "      <td>motor off</td>\n",
       "    </tr>\n",
       "  </tbody>\n",
       "</table>\n",
       "<p>150 rows × 4 columns</p>\n",
       "</div>"
      ],
      "text/plain": [
       "      Id  Moisture State     Action\n",
       "0      0      1669   wet  motor off\n",
       "1      1      1675   wet  motor off\n",
       "2      2      1680   wet  motor off\n",
       "3      3      1686   wet  motor off\n",
       "4      4      1663   wet  motor off\n",
       "..   ...       ...   ...        ...\n",
       "145  145      1803   wet  motor off\n",
       "146  146      1982   wet  motor off\n",
       "147  147      1574   wet  motor off\n",
       "148  148      3146   dry   motor on\n",
       "149  149      1269   wet  motor off\n",
       "\n",
       "[150 rows x 4 columns]"
      ]
     },
     "execution_count": 73,
     "metadata": {},
     "output_type": "execute_result"
    }
   ],
   "source": [
    "data"
   ]
  },
  {
   "cell_type": "code",
   "execution_count": 74,
   "metadata": {},
   "outputs": [],
   "source": [
    "X=data.iloc[:,1].values"
   ]
  },
  {
   "cell_type": "code",
   "execution_count": 75,
   "metadata": {},
   "outputs": [
    {
     "data": {
      "text/plain": [
       "array([1669, 1675, 1680, 1686, 1663, 1665, 1104, 1062, 4095, 1023,  959,\n",
       "        927, 4095,  989,  963,  944, 1127, 1035, 1062, 1130,  990,  915,\n",
       "       1069, 1021, 1322, 4095, 4095, 4095, 4095, 4095, 4095, 4095, 4095,\n",
       "       4095, 4095, 3601, 1781,  855,  895, 3162, 3119, 2189, 3071, 1155,\n",
       "       2163, 1449, 3099, 1059, 1045, 3101, 1940, 1190, 1195, 1200, 1193,\n",
       "       1215, 1274, 1088, 1142, 1162, 1185, 1185, 1199, 1200, 1205, 1197,\n",
       "       1198, 1183, 1195, 1207, 1214, 1222, 1220, 1218, 1213, 1189, 1183,\n",
       "       1205, 3105, 3066, 3070, 1843,  976, 3043, 1709, 1008, 1705, 1207,\n",
       "       1518, 2032, 1613, 2992, 2986, 2976, 1949,  947, 1251, 2980, 1167,\n",
       "       3013, 1974, 2234, 1390, 3039, 3024, 3011, 1265, 1327, 1360, 1168,\n",
       "       1149, 1168, 1179, 1104,  979, 1003, 1473, 1275, 1162, 1058, 1039,\n",
       "       1413, 1018,  954, 1013, 2933, 1831, 2550, 3067, 1391, 1040, 1274,\n",
       "       1101, 1072, 1095, 1093, 1141, 1200, 1197, 1093, 1103, 1002, 1518,\n",
       "       1018, 1090, 1803, 1982, 1574, 3146, 1269], dtype=int64)"
      ]
     },
     "execution_count": 75,
     "metadata": {},
     "output_type": "execute_result"
    }
   ],
   "source": [
    "X"
   ]
  },
  {
   "cell_type": "code",
   "execution_count": 76,
   "metadata": {},
   "outputs": [],
   "source": [
    "X=X.reshape(-1,1)"
   ]
  },
  {
   "cell_type": "code",
   "execution_count": 77,
   "metadata": {},
   "outputs": [
    {
     "data": {
      "text/plain": [
       "array([[1669],\n",
       "       [1675],\n",
       "       [1680],\n",
       "       [1686],\n",
       "       [1663],\n",
       "       [1665],\n",
       "       [1104],\n",
       "       [1062],\n",
       "       [4095],\n",
       "       [1023],\n",
       "       [ 959],\n",
       "       [ 927],\n",
       "       [4095],\n",
       "       [ 989],\n",
       "       [ 963],\n",
       "       [ 944],\n",
       "       [1127],\n",
       "       [1035],\n",
       "       [1062],\n",
       "       [1130],\n",
       "       [ 990],\n",
       "       [ 915],\n",
       "       [1069],\n",
       "       [1021],\n",
       "       [1322],\n",
       "       [4095],\n",
       "       [4095],\n",
       "       [4095],\n",
       "       [4095],\n",
       "       [4095],\n",
       "       [4095],\n",
       "       [4095],\n",
       "       [4095],\n",
       "       [4095],\n",
       "       [4095],\n",
       "       [3601],\n",
       "       [1781],\n",
       "       [ 855],\n",
       "       [ 895],\n",
       "       [3162],\n",
       "       [3119],\n",
       "       [2189],\n",
       "       [3071],\n",
       "       [1155],\n",
       "       [2163],\n",
       "       [1449],\n",
       "       [3099],\n",
       "       [1059],\n",
       "       [1045],\n",
       "       [3101],\n",
       "       [1940],\n",
       "       [1190],\n",
       "       [1195],\n",
       "       [1200],\n",
       "       [1193],\n",
       "       [1215],\n",
       "       [1274],\n",
       "       [1088],\n",
       "       [1142],\n",
       "       [1162],\n",
       "       [1185],\n",
       "       [1185],\n",
       "       [1199],\n",
       "       [1200],\n",
       "       [1205],\n",
       "       [1197],\n",
       "       [1198],\n",
       "       [1183],\n",
       "       [1195],\n",
       "       [1207],\n",
       "       [1214],\n",
       "       [1222],\n",
       "       [1220],\n",
       "       [1218],\n",
       "       [1213],\n",
       "       [1189],\n",
       "       [1183],\n",
       "       [1205],\n",
       "       [3105],\n",
       "       [3066],\n",
       "       [3070],\n",
       "       [1843],\n",
       "       [ 976],\n",
       "       [3043],\n",
       "       [1709],\n",
       "       [1008],\n",
       "       [1705],\n",
       "       [1207],\n",
       "       [1518],\n",
       "       [2032],\n",
       "       [1613],\n",
       "       [2992],\n",
       "       [2986],\n",
       "       [2976],\n",
       "       [1949],\n",
       "       [ 947],\n",
       "       [1251],\n",
       "       [2980],\n",
       "       [1167],\n",
       "       [3013],\n",
       "       [1974],\n",
       "       [2234],\n",
       "       [1390],\n",
       "       [3039],\n",
       "       [3024],\n",
       "       [3011],\n",
       "       [1265],\n",
       "       [1327],\n",
       "       [1360],\n",
       "       [1168],\n",
       "       [1149],\n",
       "       [1168],\n",
       "       [1179],\n",
       "       [1104],\n",
       "       [ 979],\n",
       "       [1003],\n",
       "       [1473],\n",
       "       [1275],\n",
       "       [1162],\n",
       "       [1058],\n",
       "       [1039],\n",
       "       [1413],\n",
       "       [1018],\n",
       "       [ 954],\n",
       "       [1013],\n",
       "       [2933],\n",
       "       [1831],\n",
       "       [2550],\n",
       "       [3067],\n",
       "       [1391],\n",
       "       [1040],\n",
       "       [1274],\n",
       "       [1101],\n",
       "       [1072],\n",
       "       [1095],\n",
       "       [1093],\n",
       "       [1141],\n",
       "       [1200],\n",
       "       [1197],\n",
       "       [1093],\n",
       "       [1103],\n",
       "       [1002],\n",
       "       [1518],\n",
       "       [1018],\n",
       "       [1090],\n",
       "       [1803],\n",
       "       [1982],\n",
       "       [1574],\n",
       "       [3146],\n",
       "       [1269]], dtype=int64)"
      ]
     },
     "execution_count": 77,
     "metadata": {},
     "output_type": "execute_result"
    }
   ],
   "source": [
    "X"
   ]
  },
  {
   "cell_type": "code",
   "execution_count": 78,
   "metadata": {},
   "outputs": [],
   "source": [
    "Y=data.iloc[:,2].values"
   ]
  },
  {
   "cell_type": "code",
   "execution_count": 79,
   "metadata": {},
   "outputs": [
    {
     "data": {
      "text/plain": [
       "array(['wet', 'wet', 'wet', 'wet', 'wet', 'wet', 'wet', 'wet', 'dry',\n",
       "       'wet', 'wet', 'wet', 'dry', 'wet', 'wet', 'wet', 'wet', 'wet',\n",
       "       'wet', 'wet', 'wet', 'wet', 'wet', 'wet', 'wet', 'dry', 'dry',\n",
       "       'dry', 'dry', 'dry', 'dry', 'dry', 'dry', 'dry', 'dry', 'dry',\n",
       "       'wet', 'wet', 'wet', 'dry', 'dry', 'wet', 'dry', 'wet', 'wet',\n",
       "       'wet', 'dry', 'wet', 'wet', 'dry', 'wet', 'wet', 'wet', 'wet',\n",
       "       'wet', 'wet', 'wet', 'wet', 'wet', 'wet', 'wet', 'wet', 'wet',\n",
       "       'wet', 'wet', 'wet', 'wet', 'wet', 'wet', 'wet', 'wet', 'wet',\n",
       "       'wet', 'wet', 'wet', 'wet', 'wet', 'wet', 'dry', 'dry', 'dry',\n",
       "       'wet', 'wet', 'dry', 'wet', 'wet', 'wet', 'wet', 'wet', 'wet',\n",
       "       'wet', 'dry', 'dry', 'dry', 'wet', 'wet', 'wet', 'dry', 'wet',\n",
       "       'dry', 'wet', 'wet', 'wet', 'dry', 'dry', 'dry', 'wet', 'wet',\n",
       "       'wet', 'wet', 'wet', 'wet', 'wet', 'wet', 'wet', 'wet', 'wet',\n",
       "       'wet', 'wet', 'wet', 'wet', 'wet', 'wet', 'wet', 'wet', 'dry',\n",
       "       'wet', 'wet', 'dry', 'wet', 'wet', 'wet', 'wet', 'wet', 'wet',\n",
       "       'wet', 'wet', 'wet', 'wet', 'wet', 'wet', 'wet', 'wet', 'wet',\n",
       "       'wet', 'wet', 'wet', 'wet', 'dry', 'wet'], dtype=object)"
      ]
     },
     "execution_count": 79,
     "metadata": {},
     "output_type": "execute_result"
    }
   ],
   "source": [
    "Y"
   ]
  },
  {
   "cell_type": "code",
   "execution_count": 80,
   "metadata": {},
   "outputs": [],
   "source": [
    "from sklearn.preprocessing import LabelEncoder\n",
    "\n",
    "le=LabelEncoder()\n",
    "Y=le.fit_transform(Y)"
   ]
  },
  {
   "cell_type": "code",
   "execution_count": 81,
   "metadata": {},
   "outputs": [
    {
     "data": {
      "text/plain": [
       "array([1, 1, 1, 1, 1, 1, 1, 1, 0, 1, 1, 1, 0, 1, 1, 1, 1, 1, 1, 1, 1, 1,\n",
       "       1, 1, 1, 0, 0, 0, 0, 0, 0, 0, 0, 0, 0, 0, 1, 1, 1, 0, 0, 1, 0, 1,\n",
       "       1, 1, 0, 1, 1, 0, 1, 1, 1, 1, 1, 1, 1, 1, 1, 1, 1, 1, 1, 1, 1, 1,\n",
       "       1, 1, 1, 1, 1, 1, 1, 1, 1, 1, 1, 1, 0, 0, 0, 1, 1, 0, 1, 1, 1, 1,\n",
       "       1, 1, 1, 0, 0, 0, 1, 1, 1, 0, 1, 0, 1, 1, 1, 0, 0, 0, 1, 1, 1, 1,\n",
       "       1, 1, 1, 1, 1, 1, 1, 1, 1, 1, 1, 1, 1, 1, 1, 0, 1, 1, 0, 1, 1, 1,\n",
       "       1, 1, 1, 1, 1, 1, 1, 1, 1, 1, 1, 1, 1, 1, 1, 1, 0, 1])"
      ]
     },
     "execution_count": 81,
     "metadata": {},
     "output_type": "execute_result"
    }
   ],
   "source": [
    "Y # wet - 1, dry - 0"
   ]
  },
  {
   "cell_type": "code",
   "execution_count": 82,
   "metadata": {},
   "outputs": [],
   "source": [
    "from sklearn.model_selection import train_test_split\n",
    "\n",
    "X_train,X_test,Y_train,Y_test=train_test_split(X,Y,test_size=0.2)"
   ]
  },
  {
   "cell_type": "code",
   "execution_count": 83,
   "metadata": {},
   "outputs": [
    {
     "data": {
      "text/html": [
       "<style>#sk-container-id-6 {color: black;}#sk-container-id-6 pre{padding: 0;}#sk-container-id-6 div.sk-toggleable {background-color: white;}#sk-container-id-6 label.sk-toggleable__label {cursor: pointer;display: block;width: 100%;margin-bottom: 0;padding: 0.3em;box-sizing: border-box;text-align: center;}#sk-container-id-6 label.sk-toggleable__label-arrow:before {content: \"▸\";float: left;margin-right: 0.25em;color: #696969;}#sk-container-id-6 label.sk-toggleable__label-arrow:hover:before {color: black;}#sk-container-id-6 div.sk-estimator:hover label.sk-toggleable__label-arrow:before {color: black;}#sk-container-id-6 div.sk-toggleable__content {max-height: 0;max-width: 0;overflow: hidden;text-align: left;background-color: #f0f8ff;}#sk-container-id-6 div.sk-toggleable__content pre {margin: 0.2em;color: black;border-radius: 0.25em;background-color: #f0f8ff;}#sk-container-id-6 input.sk-toggleable__control:checked~div.sk-toggleable__content {max-height: 200px;max-width: 100%;overflow: auto;}#sk-container-id-6 input.sk-toggleable__control:checked~label.sk-toggleable__label-arrow:before {content: \"▾\";}#sk-container-id-6 div.sk-estimator input.sk-toggleable__control:checked~label.sk-toggleable__label {background-color: #d4ebff;}#sk-container-id-6 div.sk-label input.sk-toggleable__control:checked~label.sk-toggleable__label {background-color: #d4ebff;}#sk-container-id-6 input.sk-hidden--visually {border: 0;clip: rect(1px 1px 1px 1px);clip: rect(1px, 1px, 1px, 1px);height: 1px;margin: -1px;overflow: hidden;padding: 0;position: absolute;width: 1px;}#sk-container-id-6 div.sk-estimator {font-family: monospace;background-color: #f0f8ff;border: 1px dotted black;border-radius: 0.25em;box-sizing: border-box;margin-bottom: 0.5em;}#sk-container-id-6 div.sk-estimator:hover {background-color: #d4ebff;}#sk-container-id-6 div.sk-parallel-item::after {content: \"\";width: 100%;border-bottom: 1px solid gray;flex-grow: 1;}#sk-container-id-6 div.sk-label:hover label.sk-toggleable__label {background-color: #d4ebff;}#sk-container-id-6 div.sk-serial::before {content: \"\";position: absolute;border-left: 1px solid gray;box-sizing: border-box;top: 0;bottom: 0;left: 50%;z-index: 0;}#sk-container-id-6 div.sk-serial {display: flex;flex-direction: column;align-items: center;background-color: white;padding-right: 0.2em;padding-left: 0.2em;position: relative;}#sk-container-id-6 div.sk-item {position: relative;z-index: 1;}#sk-container-id-6 div.sk-parallel {display: flex;align-items: stretch;justify-content: center;background-color: white;position: relative;}#sk-container-id-6 div.sk-item::before, #sk-container-id-6 div.sk-parallel-item::before {content: \"\";position: absolute;border-left: 1px solid gray;box-sizing: border-box;top: 0;bottom: 0;left: 50%;z-index: -1;}#sk-container-id-6 div.sk-parallel-item {display: flex;flex-direction: column;z-index: 1;position: relative;background-color: white;}#sk-container-id-6 div.sk-parallel-item:first-child::after {align-self: flex-end;width: 50%;}#sk-container-id-6 div.sk-parallel-item:last-child::after {align-self: flex-start;width: 50%;}#sk-container-id-6 div.sk-parallel-item:only-child::after {width: 0;}#sk-container-id-6 div.sk-dashed-wrapped {border: 1px dashed gray;margin: 0 0.4em 0.5em 0.4em;box-sizing: border-box;padding-bottom: 0.4em;background-color: white;}#sk-container-id-6 div.sk-label label {font-family: monospace;font-weight: bold;display: inline-block;line-height: 1.2em;}#sk-container-id-6 div.sk-label-container {text-align: center;}#sk-container-id-6 div.sk-container {/* jupyter's `normalize.less` sets `[hidden] { display: none; }` but bootstrap.min.css set `[hidden] { display: none !important; }` so we also need the `!important` here to be able to override the default hidden behavior on the sphinx rendered scikit-learn.org. See: https://github.com/scikit-learn/scikit-learn/issues/21755 */display: inline-block !important;position: relative;}#sk-container-id-6 div.sk-text-repr-fallback {display: none;}</style><div id=\"sk-container-id-6\" class=\"sk-top-container\"><div class=\"sk-text-repr-fallback\"><pre>LogisticRegression()</pre><b>In a Jupyter environment, please rerun this cell to show the HTML representation or trust the notebook. <br />On GitHub, the HTML representation is unable to render, please try loading this page with nbviewer.org.</b></div><div class=\"sk-container\" hidden><div class=\"sk-item\"><div class=\"sk-estimator sk-toggleable\"><input class=\"sk-toggleable__control sk-hidden--visually\" id=\"sk-estimator-id-6\" type=\"checkbox\" checked><label for=\"sk-estimator-id-6\" class=\"sk-toggleable__label sk-toggleable__label-arrow\">LogisticRegression</label><div class=\"sk-toggleable__content\"><pre>LogisticRegression()</pre></div></div></div></div></div>"
      ],
      "text/plain": [
       "LogisticRegression()"
      ]
     },
     "execution_count": 83,
     "metadata": {},
     "output_type": "execute_result"
    }
   ],
   "source": [
    "from sklearn.linear_model import LogisticRegression\n",
    "\n",
    "classifier1=LogisticRegression()\n",
    "classifier1.fit(X_train,Y_train)"
   ]
  },
  {
   "cell_type": "code",
   "execution_count": 84,
   "metadata": {},
   "outputs": [
    {
     "name": "stdout",
     "output_type": "stream",
     "text": [
      "1.0\n"
     ]
    }
   ],
   "source": [
    "from sklearn.metrics import accuracy_score\n",
    "\n",
    "Y_pred_classifier1=classifier1.predict(X_test)\n",
    "\n",
    "print(accuracy_score(Y_test,Y_pred_classifier1))"
   ]
  },
  {
   "cell_type": "code",
   "execution_count": 85,
   "metadata": {},
   "outputs": [],
   "source": [
    "import pickle\n",
    "\n",
    "with open('model.pkl','wb') as model:\n",
    "    pickle.dump(classifier1,model)"
   ]
  },
  {
   "cell_type": "code",
   "execution_count": 86,
   "metadata": {},
   "outputs": [
    {
     "name": "stdout",
     "output_type": "stream",
     "text": [
      "[1]\n"
     ]
    }
   ],
   "source": [
    "print(classifier1.predict([[1200]]))"
   ]
  }
 ],
 "metadata": {
  "kernelspec": {
   "display_name": "Python 3",
   "language": "python",
   "name": "python3"
  },
  "language_info": {
   "codemirror_mode": {
    "name": "ipython",
    "version": 3
   },
   "file_extension": ".py",
   "mimetype": "text/x-python",
   "name": "python",
   "nbconvert_exporter": "python",
   "pygments_lexer": "ipython3",
   "version": "3.10.9"
  }
 },
 "nbformat": 4,
 "nbformat_minor": 2
}
